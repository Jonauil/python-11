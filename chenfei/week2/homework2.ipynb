{
 "cells": [
  {
   "cell_type": "markdown",
   "metadata": {},
   "source": [
    "***Python 实现随机生成 200 无重复激活码***"
   ]
  },
  {
   "cell_type": "code",
   "execution_count": 14,
   "metadata": {},
   "outputs": [
    {
     "name": "stdout",
     "output_type": "stream",
     "text": [
      "Your Random Length is >>>10\n",
      "That is Enough 200 random numbers!\n",
      "{'WU9p7174jl', 'FadxSI91IY', '7lycyw4X0l', '39fjd4jPw0', '3wviF47D7N', 'O95MX82Ogr', 'LvS8Z18c1M', 'Jm42J5vW03', 'Pv6y1vZgNh', 'XkcJBQW3qk', 'LZbnAAJ5Yw', 'j1609WiIO6', 'Rz6t91lP47', 'rTqbH4bvQl', '12gqA8vD17', 'A774dP9E2w', '26E7Fc85x6', 'PKKaGyt4dj', 'vZD172N1zz', '9tNTiqWn5i', '780a15cd2k', '83TPjLIj31', 'pxgE6Q54Lr', 's21V42E65t', '57Tedc2lb4', '3oZ6jFAgTi', '9rQ8AbSp0u', 'B6AH84aSkz', 'rBCd333g81', 'Bx6m52FmEe', 'KsH7MjE66G', 'k5AzBoD682', '6U3y40p2Ny', 'G214zP2zxA', 'LPUxZH6x73', '94K22AOn2k', '422Gy3Ge5l', 'e2JpaynaIm', 'TzNY50imdc', 'R39B8f7fxC', '5rDmwY0xL2', '0PXKyZ3sm7', '3gVC5gSnws', 'FR1SfUDwpT', 'n67Yea90v8', 'p7ZAr1O3Du', '467uq50GyY', 't4Q1mW3M3O', 'i6qIj6q5q9', 'PcR91I773A', '6tBzCYNr8J', 'M63Kz3wdR2', 'eWwrD6Xr6Q', 'o719O8hAVw', 'T3zS5U9Bnt', 'oit5wV91fj', '4H0w5Il142', 'mynKlWG938', '29ap0Vn2M5', 'AKo77sdfH8', 'N6Swr0J0CU', 'g39T7I31XU', '320K7i2XtX', '8FR6Qvhdf1', 'Nd3mW8xAM5', '5DjRqAJBy1', 'i40SuN83d4', 'E7BDug7Dc7', 'R9rIZz0tj4', 'jXGtZIjTpU', 'UvqB3z2xwA', 'hv93SgCA15', '1lwqvu2Go7', 'nf7MGN6Ej4', 'w4W0F45854', '4QA3SVPS3N', 'ST1kwv4uOE', '56817V15eJ', 'y52iJ5c0S1', '8XBFQZ25xC', 'r3Mgby9R97', '6h75g992Sm', 'doh0VV2RR5', 'ryFi835E29', 'sWOGt1OgQg', 'TX2Q2ac61x', 'Zok31Tt0T9', 'OdRNwYbmUF', 'X66MXlMDm7', '1QC32KGr0B', 'cSd27ny47f', 'Z9380CU2A7', 'LTPE7V9al0', 'eAejQt8ab7', 'B444f9rqZq', '18KXCfmD1x', '7MMK54i33t', 'I2R6V87hLH', '2o96cmF414', 'yg5n65oPIg', 'daGBDOK6b7', '6Wb6nCDo7D', 'oytwK1X584', 'vs815gDQIr', 'XMW13T3kK1', 'oCp6840SWp', '5LnX26xarb', '22Sag3Q63u', 'b7xpu7k5F9', 'XSXEMh57kQ', '31dNrE5428', 'BJS8q7QJw5', '7quga6QRGy', 'wTFZl77FjH', 'Xv004W0PVM', 'S369J58lYL', '0DxkcgJP12', 'exVg1yG0yT', 'YfC2E9g9Lm', '6k789N8DNw', 'Sx0IKG1K8i', 'vZbYI7y534', 'SmGo5H69xX', '274R2ldD9Y', 'FC257oz6A4', 'i1J6o7e99R', '723yHt1yGF', 'uoMXL61UwG', 'OJ2WMh1SIo', 'P38r40kd17', '2WWiW5rnta', '2Kfc0nOOVB', 'Oy09ID3ri1', 'O2916RxQQL', '3zldLEfVbT', 'qAWCosKnuI', '039oU6xA9f', 'asyBFzJc8i', 'g5rlRZ9UmF', 'fP9gIAKT13', 'jpP6GfkB19', 'J8W0757094', 'Us2y4haM2I', 's22L9d1H29', 'qmR95OGfRK', 'Tl5C55rX28', 'vgYG1MA01x', 'C005LP6707', 'eNc1b7xH6L', 'NBg9DhwzMY', 'l8e1RU9a19', 'fGttpgoNFS', 'ZBPF26sUBu', 'Gq0lvYANCO', 'DYX6piUkq9', '3USzXK1UL8', '5GU0mEAkcn', '1ooq3rBl6w', 'l26dWu0Iqh', '3qK61UKx35', '4MQrC5P6VB', 'r04hB1N0Ij', 'Q47y4om5Jr', 'c05eN8K7JC', 'W4R9F57AoC', 'aoGwh923cb', 'VW8IhZJ42o', 'm38dxxsGYX', 'uRi4doRJj0', '0fLHNu70zz', 'SWfI7fam6a', 'cWzntnTLQl', 'hQe6W78Qfa', 'B09wSuvvqE', 'B9OcDFl5Hf', '6b398qUy5E', 'u4u0779ZVH', 'NLZ257373w', 'WkQDoM6Msr', '534VMuA0v8', '3wH2L7m4sC', '4F13x72J2i', 'n1GkvZZ9Ga', '94bcsP2R15', 'n9EmkwT1YV', 'da46e2k4qX', 'X4k51iQfRU', 's1zkRMum3k', '1K95SkQZT7', '4m3eFjPhk3', 'AzsF3IHS66', '99KmQksM8Q', 'vxOST8h16Y', 'nG4vAQrKAf', 'XZr1E6nQdt', '5cVwf4A3mA', '3gXn2XokhE', 'aPfji8lYaz', '5XKsZUUVeW', '9KnTErKOAz'}\n"
     ]
    }
   ],
   "source": [
    "import random\n",
    "while True:\n",
    "    RanLenth = input('Your Random Length is >>>')\n",
    "    if not RanLenth.isdigit():\n",
    "        print('You input the Ranlength is not Legal,please try again')\n",
    "    else:\n",
    "        break\n",
    "    \n",
    "sets = set()\n",
    "while True:\n",
    "    if (len(sets) >= 200):\n",
    "        print('That is Enough 200 random numbers!')\n",
    "        break\n",
    "    else:\n",
    "        str1 = ''\n",
    "        for _ in range(int(RanLenth)):\n",
    "            choice = random.randint(0,2)\n",
    "            if (choice == 0):\n",
    "                str1 += str(random.randint(0,9))\n",
    "            if (choice == 1):\n",
    "                str1 += chr(random.randint(97,122))\n",
    "            if (choice == 2):\n",
    "                str1 += chr(random.randint(65,90))\n",
    "            #print(choice)\n",
    "        #print(str1)\n",
    "        sets.add(str1)         \n",
    "print(sets)"
   ]
  },
  {
   "cell_type": "markdown",
   "metadata": {},
   "source": [
    "***Python 实现随机生成 200 无重复激活码***"
   ]
  },
  {
   "cell_type": "code",
   "execution_count": 15,
   "metadata": {},
   "outputs": [
    {
     "name": "stdout",
     "output_type": "stream",
     "text": [
      "Your Random Length is >>>6\n",
      "That is Enough 200 random numbers!\n",
      "{'548918', '450423', '353616', '526354', '612688', '902387', '206249', '189746', '193529', '843694', '969434', '567130', '206071', '371818', '117170', '441463', '532189', '932049', '125597', '462101', '309903', '593413', '947799', '870187', '863536', '562635', '385209', '300501', '118565', '813245', '462090', '905207', '140136', '287809', '664464', '403768', '408085', '838166', '848365', '144892', '760827', '795253', '340536', '197267', '141681', '730710', '524226', '656832', '101538', '609612', '160636', '115404', '526750', '872422', '145529', '851591', '889173', '645525', '920400', '537299', '675075', '300571', '602432', '197073', '478177', '342773', '767479', '959530', '270149', '281118', '246630', '659667', '716776', '219748', '923837', '165297', '403552', '249033', '345778', '726420', '631665', '631205', '488614', '939832', '763310', '305874', '909816', '220005', '200016', '962213', '995196', '405707', '749066', '798725', '677797', '321990', '861099', '842422', '942337', '729443', '200062', '318692', '209530', '759609', '258950', '106046', '415519', '982014', '521591', '707108', '445492', '617658', '979500', '937006', '574060', '921184', '131705', '435841', '255184', '143612', '225093', '756872', '669318', '797389', '767768', '617057', '586972', '357409', '675201', '505363', '476534', '186664', '166520', '670930', '560554', '753699', '639284', '254595', '295248', '905085', '257934', '314789', '711600', '122614', '876645', '739667', '799994', '822151', '921754', '674127', '405575', '251315', '758186', '126214', '948963', '525936', '885725', '525284', '237324', '518226', '130692', '448323', '821580', '204455', '553545', '104432', '720921', '162310', '204504', '273740', '762022', '332932', '335563', '982221', '588934', '914905', '829527', '866758', '725440', '792715', '271949', '654480', '915155', '315390', '895953', '855461', '923895', '300738', '794249', '863513', '282081', '266026', '287927', '805731', '623838', '830978', '876001', '921303', '609044', '592872'}\n"
     ]
    }
   ],
   "source": [
    "import random\n",
    "while True:\n",
    "    RanLenth = input('Your Random Length is >>>')\n",
    "    if not RanLenth.isdigit():\n",
    "        print('You input the Ranlength is not Legal,please try again')\n",
    "    else:\n",
    "        break\n",
    "    \n",
    "sets = set()\n",
    "while True:\n",
    "    if (len(sets) >= 200):\n",
    "        print('That is Enough 200 random numbers!')\n",
    "        break\n",
    "    else:\n",
    "        str1 = ''\n",
    "        for i in range(int(RanLenth)):\n",
    "            str1 += str(random.randint(0,9))\n",
    "        #print(str1)\n",
    "        if(len(str1) <int(RanLenth)) or (str1[0] == '0'):\n",
    "        #if(len(str1) <int(RanLenth)):\n",
    "            continue\n",
    "        else:  \n",
    "            sets.add(str1)         \n",
    "print(sets)"
   ]
  },
  {
   "cell_type": "markdown",
   "metadata": {},
   "source": [
    "***100以内的斐波那契数列1***"
   ]
  },
  {
   "cell_type": "code",
   "execution_count": 16,
   "metadata": {},
   "outputs": [
    {
     "name": "stdout",
     "output_type": "stream",
     "text": [
      "[1, 1, 2, 3, 5, 8, 13, 21, 34, 55, 89, 144, 233, 377, 610, 987, 1597, 2584, 4181, 6765, 10946, 17711, 28657, 46368, 75025, 121393, 196418, 317811, 514229, 832040, 1346269, 2178309, 3524578, 5702887, 9227465, 14930352, 24157817, 39088169, 63245986, 102334155, 165580141, 267914296, 433494437, 701408733, 1134903170, 1836311903, 2971215073, 4807526976, 7778742049, 12586269025, 20365011074, 32951280099, 53316291173, 86267571272, 139583862445, 225851433717, 365435296162, 591286729879, 956722026041, 1548008755920, 2504730781961, 4052739537881, 6557470319842, 10610209857723, 17167680177565, 27777890035288, 44945570212853, 72723460248141, 117669030460994, 190392490709135, 308061521170129, 498454011879264, 806515533049393, 1304969544928657, 2111485077978050, 3416454622906707, 5527939700884757, 8944394323791464, 14472334024676221, 23416728348467685, 37889062373143906, 61305790721611591, 99194853094755497, 160500643816367088, 259695496911122585, 420196140727489673, 679891637638612258, 1100087778366101931, 1779979416004714189, 2880067194370816120, 4660046610375530309, 7540113804746346429, 12200160415121876738, 19740274219868223167, 31940434634990099905, 51680708854858323072, 83621143489848422977, 135301852344706746049, 218922995834555169026, 354224848179261915075]\n",
      "100\n"
     ]
    }
   ],
   "source": [
    "slist = [1,1]\n",
    "for i in range(2,100):\n",
    "    LstItem = slist[i - 1] + slist[i - 2]\n",
    "    slist.append(LstItem)\n",
    "print(slist)\n",
    "print(len(slist))"
   ]
  },
  {
   "cell_type": "markdown",
   "metadata": {},
   "source": [
    "***100以内的斐波那契数列1***"
   ]
  },
  {
   "cell_type": "code",
   "execution_count": 17,
   "metadata": {},
   "outputs": [
    {
     "name": "stdout",
     "output_type": "stream",
     "text": [
      "[1, 1, 2, 3, 5, 8, 13, 21, 34, 55, 89, 144, 233, 377, 610, 987, 1597, 2584, 4181, 6765, 10946, 17711, 28657, 46368, 75025, 121393, 196418, 317811, 514229, 832040, 1346269, 2178309, 3524578, 5702887, 9227465, 14930352, 24157817, 39088169, 63245986, 102334155, 165580141, 267914296, 433494437, 701408733, 1134903170, 1836311903, 2971215073, 4807526976, 7778742049, 12586269025, 20365011074, 32951280099, 53316291173, 86267571272, 139583862445, 225851433717, 365435296162, 591286729879, 956722026041, 1548008755920, 2504730781961, 4052739537881, 6557470319842, 10610209857723, 17167680177565, 27777890035288, 44945570212853, 72723460248141, 117669030460994, 190392490709135, 308061521170129, 498454011879264, 806515533049393, 1304969544928657, 2111485077978050, 3416454622906707, 5527939700884757, 8944394323791464, 14472334024676221, 23416728348467685, 37889062373143906, 61305790721611591, 99194853094755497, 160500643816367088, 259695496911122585, 420196140727489673, 679891637638612258, 1100087778366101931, 1779979416004714189, 2880067194370816120, 4660046610375530309, 7540113804746346429, 12200160415121876738, 19740274219868223167, 31940434634990099905, 51680708854858323072, 83621143489848422977, 135301852344706746049, 218922995834555169026, 354224848179261915075]\n"
     ]
    }
   ],
   "source": [
    "slist = [1]*100\n",
    "i = 2\n",
    "while True:\n",
    "    if(i == 100):\n",
    "        break\n",
    "    slist[i] = slist[i - 1] + slist[i - 2]   \n",
    "    i += 1\n",
    "\n",
    "print(slist)\n",
    "    "
   ]
  },
  {
   "cell_type": "code",
   "execution_count": null,
   "metadata": {},
   "outputs": [],
   "source": []
  },
  {
   "cell_type": "code",
   "execution_count": null,
   "metadata": {},
   "outputs": [],
   "source": []
  },
  {
   "cell_type": "code",
   "execution_count": null,
   "metadata": {},
   "outputs": [],
   "source": []
  },
  {
   "cell_type": "code",
   "execution_count": null,
   "metadata": {},
   "outputs": [],
   "source": []
  }
 ],
 "metadata": {
  "kernelspec": {
   "display_name": "Python 3",
   "language": "python",
   "name": "python3"
  },
  "language_info": {
   "codemirror_mode": {
    "name": "ipython",
    "version": 3
   },
   "file_extension": ".py",
   "mimetype": "text/x-python",
   "name": "python",
   "nbconvert_exporter": "python",
   "pygments_lexer": "ipython3",
   "version": "3.5.3"
  }
 },
 "nbformat": 4,
 "nbformat_minor": 2
}
